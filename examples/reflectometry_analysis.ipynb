{
 "cells": [
  {
   "cell_type": "code",
   "execution_count": 1,
   "metadata": {},
   "outputs": [],
   "source": [
    "%matplotlib inline\n",
    "\n",
    "# start off with the necessary imports\n",
    "import os.path\n",
    "import numpy as np\n",
    "import matplotlib.pyplot as plt\n",
    "\n",
    "import refnx\n",
    "from refnx.dataset import ReflectDataset\n",
    "from refnx.analysis import Transform, CurveFitter, Objective\n",
    "from refnx.reflect import SLD, Slab, ReflectModel"
   ]
  },
  {
   "cell_type": "code",
   "execution_count": 2,
   "metadata": {},
   "outputs": [
    {
     "name": "stdout",
     "output_type": "stream",
     "text": [
      "0.1.46.dev0+8a21b67\n"
     ]
    }
   ],
   "source": [
    "# what is the refnx version\n",
    "# it's import to record this for reproducing the analysis\n",
    "import refnx\n",
    "print(refnx.version.version)"
   ]
  },
  {
   "cell_type": "code",
   "execution_count": 3,
   "metadata": {},
   "outputs": [],
   "source": [
    "# this is a dataset used in refnx testing, distributed with every refnx install\n",
    "pth = os.path.dirname(refnx.__file__)\n",
    "\n",
    "DATASET_NAME = 'c_PLP0011859_q.txt'\n",
    "\n",
    "# load the data\n",
    "data = ReflectDataset(os.path.join(pth, 'analysis/test/', DATASET_NAME))"
   ]
  },
  {
   "cell_type": "code",
   "execution_count": 4,
   "metadata": {},
   "outputs": [],
   "source": [
    "# set up a series of SLD objects, representing each of the materials\n",
    "si = SLD(2.07, name='Si')\n",
    "sio2 = SLD(3.47, name='SiO2')\n",
    "film = SLD(2.0, name='film')\n",
    "d2o = SLD(6.36, name='d2o')\n",
    "\n",
    "# Slab objects are created from SLD objects in this way\n",
    "# this creates a native oxide layer\n",
    "sio2_layer = sio2(30, 3)\n",
    "# we can set limits on each of the parameters in a slab\n",
    "sio2_layer.thick.setp(bounds=(15, 50), vary=True)\n",
    "sio2_layer.rough.setp(bounds=(1, 15), vary=True)\n",
    "\n",
    "# create a layer for the layer of interest\n",
    "film_layer = film(250, 3)\n",
    "film_layer.thick.setp(bounds=(200, 300), vary=True)\n",
    "film_layer.sld.real.setp(bounds=(0.1, 3), vary=True)\n",
    "film_layer.rough.setp(bounds=(1, 15), vary=True)\n",
    "\n",
    "# and a layer for the solvent\n",
    "d2o_layer = d2o(0, 3)\n",
    "d2o_layer.rough.setp(vary=True, bounds=(1, 15))\n",
    "\n",
    "# a Structure is composed from a series of Components. In this\n",
    "# case all the components are Slab's.\n",
    "structure = si | sio2_layer | film_layer | d2o_layer"
   ]
  },
  {
   "cell_type": "code",
   "execution_count": 5,
   "metadata": {},
   "outputs": [
    {
     "name": "stdout",
     "output_type": "stream",
     "text": [
      "________________________________________________________________________________\n",
      "Parameters:     'SiO2'     \n",
      "<Parameter:'SiO2 - thick' , value=30          , bounds=[15.0, 50.0]>\n",
      "________________________________________________________________________________\n",
      "Parameters:     'SiO2'     \n",
      "<Parameter: 'SiO2 - sld'  , value=3.47  (fixed) , bounds=[-inf, inf]>\n",
      "<Parameter: 'SiO2 - isld' , value=0  (fixed) , bounds=[-inf, inf]>\n",
      "<Parameter:'SiO2 - rough' , value=3          , bounds=[1.0, 15.0]>\n",
      "<Parameter:'SiO2 - volfrac solvent', value=0  (fixed) , bounds=[0.0, 1.0]>\n"
     ]
    }
   ],
   "source": [
    "# a Slab has the following parameters, which are all accessible as attributes:\n",
    "# Slab.thick, Slab.sld.real, Slab.sld.imag, Slab.rough\n",
    "print(sio2_layer.parameters)"
   ]
  },
  {
   "cell_type": "code",
   "execution_count": 6,
   "metadata": {},
   "outputs": [],
   "source": [
    "# a ReflectModel is made from the Structure.\n",
    "# ReflectModel calculates smeared reflectivity, applies scaling factor and background\n",
    "model = ReflectModel(structure, bkg=3e-6)\n",
    "model.scale.setp(bounds=(0.6, 1.2), vary=True)\n",
    "model.bkg.setp(bounds=(1e-9, 9e-6), vary=True)"
   ]
  },
  {
   "cell_type": "code",
   "execution_count": 7,
   "metadata": {},
   "outputs": [],
   "source": [
    "# an Objective is made from a Model and a Data. Here we use a Transform to fit as logY vs X.\n",
    "objective = Objective(model, data, transform=Transform('logY'))\n"
   ]
  },
  {
   "cell_type": "code",
   "execution_count": 8,
   "metadata": {},
   "outputs": [
    {
     "name": "stderr",
     "output_type": "stream",
     "text": [
      "-569.0075570121729: : 50it [00:02, 20.23it/s] \n"
     ]
    }
   ],
   "source": [
    "# CurveFitters do the fitting/sampling\n",
    "fitter = CurveFitter(objective)\n",
    "\n",
    "# do an initial fit with differential evolution\n",
    "res = fitter.fit('differential_evolution')"
   ]
  },
  {
   "cell_type": "code",
   "execution_count": 9,
   "metadata": {},
   "outputs": [
    {
     "data": {
      "text/plain": [
       "<matplotlib.legend.Legend at 0x11a25a930>"
      ]
     },
     "execution_count": 9,
     "metadata": {},
     "output_type": "execute_result"
    },
    {
     "data": {
      "image/png": "[encoded data removed]",
      "text/plain": [
       "<Figure size 640x480 with 1 Axes>"
      ]
     },
     "metadata": {},
     "output_type": "display_data"
    }
   ],
   "source": [
    "# an Objective has a plot method, which is a quick visualisation. You need\n",
    "# matplotlib installed to create a graph\n",
    "objective.plot()\n",
    "plt.legend()\n",
    "plt.xlabel('Q')\n",
    "plt.ylabel('logR')\n",
    "plt.legend()"
   ]
  },
  {
   "cell_type": "code",
   "execution_count": 14,
   "metadata": {},
   "outputs": [],
   "source": []
  },
  {
   "cell_type": "code",
   "execution_count": 15,
   "metadata": {},
   "outputs": [],
   "source": [
    "from refnx.reflect._code_fragment import code_fragment\n",
    "cf = code_fragment(objective)\n",
    "\n",
    "with open(\"cf.py\", 'w') as f:\n",
    "    f.write(cf)"
   ]
  },
  {
   "cell_type": "code",
   "execution_count": 10,
   "metadata": {},
   "outputs": [
    {
     "name": "stdout",
     "output_type": "stream",
     "text": [
      "________________________________________________________________________________\n",
      "Objective - 4733931824\n",
      "Dataset = c_PLP0011859_q\n",
      "datapoints = 408\n",
      "chi2 = 920.5781637868356\n",
      "Weighted = True\n",
      "Transform = Transform('logY')\n",
      "________________________________________________________________________________\n",
      "Parameters:       ''       \n",
      "________________________________________________________________________________\n",
      "Parameters: 'instrument parameters'\n",
      "<Parameter:    'scale'    , value=0.877287 +/- 0.00303, bounds=[0.6, 1.2]>\n",
      "<Parameter:     'bkg'     , value=4.52059e-07 +/- 2.14e-08, bounds=[1e-09, 9e-06]>\n",
      "<Parameter:'dq - resolution', value=5  (fixed) , bounds=[-inf, inf]>\n",
      "<Parameter:  'q_offset'   , value=0  (fixed) , bounds=[-inf, inf]>\n",
      "________________________________________________________________________________\n",
      "Parameters: 'Structure - ' \n",
      "________________________________________________________________________________\n",
      "Parameters:      'Si'      \n",
      "<Parameter: 'Si - thick'  , value=0  (fixed) , bounds=[-inf, inf]>\n",
      "________________________________________________________________________________\n",
      "Parameters:      'Si'      \n",
      "<Parameter:  'Si - sld'   , value=2.07  (fixed) , bounds=[-inf, inf]>\n",
      "<Parameter:  'Si - isld'  , value=0  (fixed) , bounds=[-inf, inf]>\n",
      "<Parameter: 'Si - rough'  , value=0  (fixed) , bounds=[-inf, inf]>\n",
      "<Parameter:'Si - volfrac solvent', value=0  (fixed) , bounds=[0.0, 1.0]>\n",
      "________________________________________________________________________________\n",
      "Parameters:     'SiO2'     \n",
      "<Parameter:'SiO2 - thick' , value=38.844 +/- 0.373, bounds=[15.0, 50.0]>\n",
      "________________________________________________________________________________\n",
      "Parameters:     'SiO2'     \n",
      "<Parameter: 'SiO2 - sld'  , value=3.47  (fixed) , bounds=[-inf, inf]>\n",
      "<Parameter: 'SiO2 - isld' , value=0  (fixed) , bounds=[-inf, inf]>\n",
      "<Parameter:'SiO2 - rough' , value=5.93428 +/- 0.282, bounds=[1.0, 15.0]>\n",
      "<Parameter:'SiO2 - volfrac solvent', value=0  (fixed) , bounds=[0.0, 1.0]>\n",
      "________________________________________________________________________________\n",
      "Parameters:     'film'     \n",
      "<Parameter:'film - thick' , value=258.901 +/- 0.247, bounds=[200.0, 300.0]>\n",
      "________________________________________________________________________________\n",
      "Parameters:     'film'     \n",
      "<Parameter: 'film - sld'  , value=2.39881 +/- 0.0129, bounds=[0.1, 3.0]>\n",
      "<Parameter: 'film - isld' , value=0  (fixed) , bounds=[-inf, inf]>\n",
      "<Parameter:'film - rough' , value=8.77554 +/- 0.368, bounds=[1.0, 15.0]>\n",
      "<Parameter:'film - volfrac solvent', value=0  (fixed) , bounds=[0.0, 1.0]>\n",
      "________________________________________________________________________________\n",
      "Parameters:      'd2o'     \n",
      "<Parameter: 'd2o - thick' , value=0  (fixed) , bounds=[-inf, inf]>\n",
      "________________________________________________________________________________\n",
      "Parameters:      'd2o'     \n",
      "<Parameter:  'd2o - sld'  , value=6.36  (fixed) , bounds=[-inf, inf]>\n",
      "<Parameter: 'd2o - isld'  , value=0  (fixed) , bounds=[-inf, inf]>\n",
      "<Parameter: 'd2o - rough' , value=3.74971 +/- 0.111, bounds=[1.0, 15.0]>\n",
      "<Parameter:'d2o - volfrac solvent', value=0  (fixed) , bounds=[0.0, 1.0]>\n"
     ]
    },
    {
     "data": {
      "image/png": "[encoded data removed]",
      "text/plain": [
       "<Figure size 640x480 with 1 Axes>"
      ]
     },
     "metadata": {},
     "output_type": "display_data"
    }
   ],
   "source": [
    "# Structure has a sld_profile method to return the SLD profile. Let's also plot that.\n",
    "plt.plot(*structure.sld_profile())\n",
    "\n",
    "# and print out the results of the fit. For the case of DifferentialEvolution uncertainties\n",
    "# are estimated by estimating the Hessian/Covariance matrix\n",
    "print(objective)"
   ]
  },
  {
   "cell_type": "code",
   "execution_count": null,
   "metadata": {},
   "outputs": [],
   "source": [
    "# now lets do a MCMC sampling of the curvefitting system\n",
    "# first we do 400 samples which we then discard. These samples are\n",
    "# discarded because the initial chain might not be representative\n",
    "# of an equilibrated system (i.e. distributed around the mean with\n",
    "# the correct covariance).\n",
    "fitter.sample(400)\n",
    "fitter.reset()\n",
    "# now do a production run, only saving 1 in 100 samples. This is to\n",
    "# remove autocorrelation. We save 30 steps, giving a total of 30 * 200\n",
    "# samples (200 walkers is the default).\n",
    "res = fitter.sample(30, nthin=100, pool=4)"
   ]
  },
  {
   "cell_type": "code",
   "execution_count": null,
   "metadata": {},
   "outputs": [],
   "source": [
    "# now let's look at the final output of the sampling. Each varying\n",
    "# parameter is given a set of statistics. `Parameter.value` is the\n",
    "# median of the chain samples. `Parameter.stderr` is half the [15, 85]\n",
    "# percentile, representing a standard deviation.\n",
    "print(objective)"
   ]
  },
  {
   "cell_type": "code",
   "execution_count": null,
   "metadata": {
    "scrolled": true
   },
   "outputs": [],
   "source": [
    "# a corner plot shows the covariance between parameters\n",
    "objective.corner();"
   ]
  },
  {
   "cell_type": "code",
   "execution_count": null,
   "metadata": {},
   "outputs": [],
   "source": [
    "# once we've done the sampling we can look at the variation in the model\n",
    "# at describing the data. In this example there isn't much spread.\n",
    "objective.plot(samples=100);"
   ]
  },
  {
   "cell_type": "code",
   "execution_count": null,
   "metadata": {},
   "outputs": [],
   "source": [
    "# in a similar manner we can look at the spread in SLD profiles\n",
    "# consistent with the data. The objective.pgen generator yields\n",
    "# parameter sets from the chain.\n",
    "\n",
    "# but first we'll save the parameters in an array.\n",
    "saved_params = np.array(objective.parameters)\n",
    "\n",
    "z, true_sld = structure.sld_profile()\n",
    "\n",
    "for pvec in objective.pgen(ngen=500):\n",
    "    objective.setp(pvec)\n",
    "    zs, sld = structure.sld_profile()\n",
    "    plt.plot(zs, sld, color='k', alpha=0.05)\n",
    "\n",
    "# put back saved_params\n",
    "objective.setp(saved_params)\n",
    "\n",
    "plt.plot(z, true_sld, lw=1, color='r')\n",
    "plt.ylim(2.2, 6)"
   ]
  }
 ],
 "metadata": {
  "kernelspec": {
   "display_name": "Python 3 (ipykernel)",
   "language": "python",
   "name": "python3"
  },
  "language_info": {
   "codemirror_mode": {
    "name": "ipython",
    "version": 3
   },
   "file_extension": ".py",
   "mimetype": "text/x-python",
   "name": "python",
   "nbconvert_exporter": "python",
   "pygments_lexer": "ipython3",
   "version": "3.12.3"
  },
  "pycharm": {
   "stem_cell": {
    "cell_type": "raw",
    "metadata": {
     "collapsed": false
    },
    "source": []
   }
  }
 },
 "nbformat": 4,
 "nbformat_minor": 4
}
