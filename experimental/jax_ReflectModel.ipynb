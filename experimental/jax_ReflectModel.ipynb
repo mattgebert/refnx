{
 "cells": [
  {
   "cell_type": "code",
   "execution_count": 1,
   "id": "32926a7d-9929-4169-a067-e1c954c361d4",
   "metadata": {},
   "outputs": [],
   "source": [
    "from jax import config\n",
    "config.update(\"jax_enable_x64\", True)"
   ]
  },
  {
   "cell_type": "code",
   "execution_count": 2,
   "id": "f03ff9cb-d047-48cb-ae11-e917729f4780",
   "metadata": {},
   "outputs": [],
   "source": [
    "from refnx._lib import flatten\n",
    "import numpy as np\n",
    "from refnx.analysis import Parameter, Model, Parameters, Objective\n",
    "from refnx.dataset import Data1D\n",
    "from refnx._lib import flatten, unique\n",
    "import jax.numpy as jnp\n",
    "from jax import grad, jit, vmap\n",
    "from jax import random"
   ]
  },
  {
   "cell_type": "code",
   "execution_count": 3,
   "id": "e6a5e37d-e538-4513-97ce-5e47802f25e8",
   "metadata": {},
   "outputs": [],
   "source": [
    "np.random.seed(123)\n",
    "\n",
    "# Choose the \"true\" parameters.\n",
    "m_true = -0.9594\n",
    "b_true = 4.294\n",
    "f_true = 0.534\n",
    "\n",
    "# Generate some synthetic data from the model.\n",
    "N = 50000\n",
    "x = np.sort(10 * np.random.rand(N))\n",
    "yerr = 0.1 + 0.5 * np.random.rand(N)\n",
    "y = m_true * x + b_true\n",
    "y += np.abs(f_true * y) * np.random.randn(N)\n",
    "y += yerr * np.random.randn(N)\n",
    "\n",
    "data = Data1D(data=(x, y))"
   ]
  },
  {
   "cell_type": "code",
   "execution_count": 4,
   "id": "e9e3727a-3abe-4974-96a1-7753b98d2ea7",
   "metadata": {},
   "outputs": [],
   "source": [
    "def make_evaluator(objective):\n",
    "    # pars = list(flatten(objective.parameters))\n",
    "    vpars = objective.varying_parameters()\n",
    "    \n",
    "    def func(pvs):\n",
    "        for vpar, pv in zip(vpars, pvs):\n",
    "            vpar._value = pv\n",
    "        return objective.logl()\n",
    "\n",
    "    return func, grad(func)"
   ]
  },
  {
   "cell_type": "code",
   "execution_count": 5,
   "id": "422a3637-ad1a-42dd-985a-2d9ed160912f",
   "metadata": {},
   "outputs": [],
   "source": [
    "m = Parameter(1)\n",
    "c = Parameter(0)"
   ]
  },
  {
   "cell_type": "code",
   "execution_count": 6,
   "id": "b58ba184-8d1d-4948-ac9d-5f9ca343daad",
   "metadata": {},
   "outputs": [],
   "source": [
    "class Line(Model):\n",
    "    def __init__(self, pars):\n",
    "        self._parameters = Parameters(pars)\n",
    "        self.fitfunc = None\n",
    "        self.fcn_args = None\n",
    "        self.fcn_kwds = None\n",
    "        self.pars = pars\n",
    "\n",
    "    def model(self, x, p=None, x_err=None):\n",
    "        if p is not None:\n",
    "            self.parameters.pvals = np.array(p)\n",
    "\n",
    "        return self.parameters[0].value * x + self.parameters[1].value"
   ]
  },
  {
   "cell_type": "code",
   "execution_count": 7,
   "id": "fde02db3-636e-4fad-a441-3bb1de442c4a",
   "metadata": {},
   "outputs": [],
   "source": [
    "l = Line([m, c])\n",
    "m.vary = True"
   ]
  },
  {
   "cell_type": "code",
   "execution_count": 8,
   "id": "29812390-4eab-4759-837b-e3ffaf71a687",
   "metadata": {},
   "outputs": [],
   "source": [
    "objective = Objective(l, data)"
   ]
  },
  {
   "cell_type": "code",
   "execution_count": 9,
   "id": "2bf39752-c0cf-4c82-89e3-16d3b2f25ba7",
   "metadata": {},
   "outputs": [],
   "source": [
    "f, g = make_evaluator(objective)"
   ]
  },
  {
   "cell_type": "code",
   "execution_count": 10,
   "id": "d4e469c6-f398-4d5e-bbc3-92d0521aa8be",
   "metadata": {},
   "outputs": [
    {
     "data": {
      "text/plain": [
       "Array(-4659324.74119686, dtype=float64)"
      ]
     },
     "execution_count": 10,
     "metadata": {},
     "output_type": "execute_result"
    }
   ],
   "source": [
    "f(jnp.array([2.0]))"
   ]
  },
  {
   "cell_type": "code",
   "execution_count": 11,
   "id": "82ade689-0d4b-4245-bacd-2fae0e52bfa8",
   "metadata": {},
   "outputs": [
    {
     "data": {
      "text/plain": [
       "Array([1144222.39350771], dtype=float64)"
      ]
     },
     "execution_count": 11,
     "metadata": {},
     "output_type": "execute_result"
    }
   ],
   "source": [
    "g(jnp.array([-1.0]))"
   ]
  },
  {
   "cell_type": "code",
   "execution_count": 12,
   "id": "77f60053-7d4b-4408-bd45-19cbd5f337d3",
   "metadata": {},
   "outputs": [
    {
     "data": {
      "text/plain": [
       "-1622769.8377402509"
      ]
     },
     "execution_count": 12,
     "metadata": {},
     "output_type": "execute_result"
    }
   ],
   "source": [
    "objective.logl([1.0, 0.0])"
   ]
  },
  {
   "cell_type": "code",
   "execution_count": 13,
   "id": "d32cc40f-ac5a-4db1-8e4a-22210d9e3d09",
   "metadata": {},
   "outputs": [
    {
     "data": {
      "text/plain": [
       "(numpy.float64, numpy.float64)"
      ]
     },
     "execution_count": 13,
     "metadata": {},
     "output_type": "execute_result"
    }
   ],
   "source": [
    "type(l.parameters[0]._value), type(l.parameters[1]._value)"
   ]
  },
  {
   "cell_type": "code",
   "execution_count": 14,
   "id": "518d5dfe-48af-40d7-899a-715d91dc80c2",
   "metadata": {},
   "outputs": [
    {
     "data": {
      "text/plain": [
       "[Array(1144222.39350771, dtype=float64, weak_type=True)]"
      ]
     },
     "execution_count": 14,
     "metadata": {},
     "output_type": "execute_result"
    }
   ],
   "source": [
    "g([-1.])"
   ]
  },
  {
   "cell_type": "code",
   "execution_count": 15,
   "id": "fd9c2219-0085-4edb-93c4-b602ea4d6f45",
   "metadata": {},
   "outputs": [],
   "source": [
    "# %timeit g(jnp.array([1.0]))"
   ]
  },
  {
   "cell_type": "code",
   "execution_count": 16,
   "id": "c5b8ffe3-45d7-4490-8f65-13d67e37ad28",
   "metadata": {},
   "outputs": [],
   "source": [
    "from scipy.optimize._numdiff import approx_derivative"
   ]
  },
  {
   "cell_type": "code",
   "execution_count": 17,
   "id": "796978c1-a6e1-4acb-b94e-a10fb89510b5",
   "metadata": {},
   "outputs": [],
   "source": [
    "# %timeit approx_derivative(objective.logl, [-1.])"
   ]
  },
  {
   "cell_type": "code",
   "execution_count": 18,
   "id": "ea1e7b38-764f-406b-ada1-6e5ee1e90cfe",
   "metadata": {},
   "outputs": [],
   "source": [
    "from refnx.reflect import reflect_model, Slab, SLD, Structure, ReflectModel, abeles, use_reflect_backend\n",
    "from refnx.reflect._jax_reflect import abeles_jax\n",
    "reflect_model.kernel = abeles_jax"
   ]
  },
  {
   "cell_type": "code",
   "execution_count": 19,
   "id": "a19af87c-30b8-465d-96ed-51d4982f8165",
   "metadata": {},
   "outputs": [],
   "source": [
    "air = SLD(0.0)\n",
    "si = SLD(2.07)\n",
    "sio2 = SLD(3.47)\n",
    "s = air | sio2(15, 3) | si(0, 3)\n",
    "s[-2].thick.setp(vary=True, bounds=(10, 20))\n",
    "s[-2].rough.setp(vary=True, bounds=(1, 6))\n",
    "model = ReflectModel(s)\n",
    "model.scale.setp(vary=True)\n",
    "model.bkg.setp(vary=True)\n",
    "sio2.real.setp(vary=True)\n",
    "si.real.setp(vary=True)\n",
    "s[-1].rough.setp(vary=True)\n",
    "s[-2].rough.setp(vary=True)\n",
    "data = Data1D('c_PLP0000708.dat')\n",
    "objective = Objective(model, data)\n",
    "arr = np.array(objective.varying_parameters())\n",
    "sarr = np.array(objective.parameters)"
   ]
  },
  {
   "cell_type": "code",
   "execution_count": 20,
   "id": "3f755b1e-7534-42f9-846a-91e1112ee973",
   "metadata": {},
   "outputs": [
    {
     "name": "stdout",
     "output_type": "stream",
     "text": [
      "3.88 ms ± 10.5 µs per loop (mean ± std. dev. of 7 runs, 100 loops each)\n"
     ]
    }
   ],
   "source": [
    "with use_reflect_backend('c'):\n",
    "    model.threads=1\n",
    "    objective.setp(np.copy(arr))\n",
    "    %timeit approx_derivative(objective.logl, arr, method='2-point')"
   ]
  },
  {
   "cell_type": "code",
   "execution_count": 20,
   "id": "9667e66b-8f1b-4e3e-b590-e6828ab245b3",
   "metadata": {},
   "outputs": [],
   "source": [
    "reflect_model.kernel = abeles_jax\n",
    "f, g = make_evaluator(objective)"
   ]
  },
  {
   "cell_type": "code",
   "execution_count": 21,
   "id": "a5fec654-b6a7-4ab2-82f1-a9400972ca59",
   "metadata": {},
   "outputs": [
    {
     "name": "stdout",
     "output_type": "stream",
     "text": [
      "11.8 ms ± 304 µs per loop (mean ± std. dev. of 7 runs, 1 loop each)\n"
     ]
    }
   ],
   "source": [
    "%timeit g(arr)"
   ]
  },
  {
   "cell_type": "code",
   "execution_count": null,
   "id": "e22d02b1-7af1-4b95-9ee4-01b05ddb87e7",
   "metadata": {},
   "outputs": [],
   "source": [
    "for p in flatten(objective.parameters):\n",
    "    print(type(p.value))"
   ]
  },
  {
   "cell_type": "markdown",
   "id": "a55960f8-6896-489b-8c83-f87bcb935eb2",
   "metadata": {},
   "source": [
    "The basic timings for calculating d(Objective.logl) with finite differences vs `jax.grad` are clear. It's better to calculate the gradient using finite differences than use autograd.\n",
    "\n",
    "\n",
    "| method | Time | \n",
    "|--------|------|\n",
    "| finite differences | 3.88 ms |\n",
    "| jax.grad | 11.8 ms |\n",
    "\n",
    "\n",
    "I think the reason the difference is so stark is that the finite differences is due to the speed of the underlying reflectivity kernel. finite differences uses a C based kernel that is very fast (even when single threaded). In comparison `jax.grad` has to use a (jitted) JAX kernel which is way slower than the C-kernel. The speed comparison is a factor of 3! This means it's not worth using JAX for gradient estimation when trying to do NUTS sampling with `pymc`."
   ]
  }
 ],
 "metadata": {
  "kernelspec": {
   "display_name": "Python 3 (ipykernel)",
   "language": "python",
   "name": "python3"
  },
  "language_info": {
   "codemirror_mode": {
    "name": "ipython",
    "version": 3
   },
   "file_extension": ".py",
   "mimetype": "text/x-python",
   "name": "python",
   "nbconvert_exporter": "python",
   "pygments_lexer": "ipython3",
   "version": "3.12.0"
  }
 },
 "nbformat": 4,
 "nbformat_minor": 5
}
