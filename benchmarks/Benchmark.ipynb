{
 "cells": [
  {
   "cell_type": "code",
   "execution_count": 1,
   "id": "9cb3497a-ef29-4b3f-a230-bcee166acad9",
   "metadata": {},
   "outputs": [],
   "source": [
    "import psutil\n",
    "import platform\n",
    "import os.path\n",
    "import numpy as np\n",
    "import pickle\n",
    "from multiprocessing import Pool\n",
    "import refnx\n",
    "from refnx.analysis import CurveFitter, Objective, Parameter, process_chain\n",
    "import refnx.reflect\n",
    "\n",
    "from refnx.reflect import (\n",
    "    SLD,\n",
    "    Slab,\n",
    "    Structure,\n",
    "    ReflectModel,\n",
    "    reflectivity,\n",
    "    use_reflect_backend,\n",
    "    available_backends,\n",
    ")\n",
    "from refnx.dataset import ReflectDataset as RD"
   ]
  },
  {
   "cell_type": "code",
   "execution_count": 2,
   "id": "e822533f-099e-4299-8c00-552ed3b19395",
   "metadata": {},
   "outputs": [
    {
     "name": "stdout",
     "output_type": "stream",
     "text": [
      "Python version: 3.12.0\n",
      "numpy version: 1.26.3\n",
      "refnx version: 0.1.43.dev0+74a19fd\n",
      "\n",
      "System: Darwin\n",
      "Release: 23.2.0\n",
      "Version: Darwin Kernel Version 23.2.0: Wed Nov 15 21:54:55 PST 2023; root:xnu-10002.61.3~2/RELEASE_ARM64_T8122\n",
      "Machine: arm64\n",
      "Processor: arm\n",
      "Physical cores: 8\n",
      "Total cores: 8\n",
      "Total: 16.00GB\n",
      "Available: 6.69GB\n"
     ]
    }
   ],
   "source": [
    "def get_size(bytes, suffix=\"B\"):\n",
    "    \"\"\"\n",
    "    Scale bytes to its proper format\n",
    "    e.g:\n",
    "        1253656 => '1.20MB'\n",
    "        1253656678 => '1.17GB'\n",
    "    \"\"\"\n",
    "    factor = 1024\n",
    "    for unit in [\"\", \"K\", \"M\", \"G\", \"T\", \"P\"]:\n",
    "        if bytes < factor:\n",
    "            return f\"{bytes:.2f}{unit}{suffix}\"\n",
    "        bytes /= factor\n",
    "\n",
    "\n",
    "uname = platform.uname()\n",
    "print(f\"Python version: {platform.python_version()}\")\n",
    "print(f\"numpy version: {np.version.version}\")\n",
    "print(f\"refnx version: {refnx.version.version}\")\n",
    "print()\n",
    "print(f\"System: {uname.system}\")\n",
    "print(f\"Release: {uname.release}\")\n",
    "print(f\"Version: {uname.version}\")\n",
    "print(f\"Machine: {uname.machine}\")\n",
    "print(f\"Processor: {uname.processor}\")\n",
    "\n",
    "# number of cores\n",
    "print(\"Physical cores:\", psutil.cpu_count(logical=False))\n",
    "print(\"Total cores:\", psutil.cpu_count(logical=True))\n",
    "\n",
    "svmem = psutil.virtual_memory()\n",
    "print(f\"Total: {get_size(svmem.total)}\")\n",
    "print(f\"Available: {get_size(svmem.available)}\")"
   ]
  },
  {
   "cell_type": "code",
   "execution_count": 3,
   "id": "46403961-87aa-49dc-b204-c5db9287a6d8",
   "metadata": {},
   "outputs": [],
   "source": [
    "q = np.linspace(0.005, 0.5, 2000)\n",
    "layers = np.array(\n",
    "    [\n",
    "        [0, 2.07, 0, 3],\n",
    "        [50, 3.47, 0.0001, 4],\n",
    "        [200, -0.5, 1e-5, 5],\n",
    "        [50, 1, 0, 3],\n",
    "        [0, 6.36, 0, 3],\n",
    "    ]\n",
    ")"
   ]
  },
  {
   "cell_type": "markdown",
   "id": "9c2c0c48-1b77-44a7-acaf-62e1e1e0b73c",
   "metadata": {},
   "source": [
    "## test reflectometry backend speed\n",
    "### Threaded calculation"
   ]
  },
  {
   "cell_type": "code",
   "execution_count": 4,
   "id": "bdafc001-a6a3-48fb-8611-738c7b9ede8a",
   "metadata": {},
   "outputs": [
    {
     "name": "stdout",
     "output_type": "stream",
     "text": [
      "backend='python'\n"
     ]
    },
    {
     "name": "stderr",
     "output_type": "stream",
     "text": [
      "/Users/andrew/Documents/Andy/programming/refnx/refnx/reflect/reflect_model.py:254: UserWarning: Using the SLOW reflectivity calculation.\n",
      "  warnings.warn(\"Using the SLOW reflectivity calculation.\")\n"
     ]
    },
    {
     "name": "stdout",
     "output_type": "stream",
     "text": [
      "383 µs ± 619 ns per loop (mean ± std. dev. of 7 runs, 1,000 loops each)\n",
      "backend='c'\n",
      "102 µs ± 352 ns per loop (mean ± std. dev. of 7 runs, 10,000 loops each)\n",
      "backend='c_parratt'\n",
      "95 µs ± 153 ns per loop (mean ± std. dev. of 7 runs, 10,000 loops each)\n",
      "backend='py_parratt'\n",
      "331 µs ± 1.18 µs per loop (mean ± std. dev. of 7 runs, 1,000 loops each)\n"
     ]
    }
   ],
   "source": [
    "for backend in available_backends():\n",
    "    print(f\"{backend=}\")\n",
    "    with use_reflect_backend(backend) as f:\n",
    "        %timeit f(q, layers)"
   ]
  },
  {
   "cell_type": "markdown",
   "id": "a33682c3-f904-437d-965e-4f15fc8bcb74",
   "metadata": {},
   "source": [
    "### Unthreaded calculation"
   ]
  },
  {
   "cell_type": "code",
   "execution_count": 5,
   "id": "38759c56-ad52-4d4a-94db-56833bf1e81b",
   "metadata": {},
   "outputs": [
    {
     "name": "stdout",
     "output_type": "stream",
     "text": [
      "backend='python'\n",
      "382 µs ± 155 ns per loop (mean ± std. dev. of 7 runs, 1,000 loops each)\n",
      "backend='c'\n",
      "215 µs ± 451 ns per loop (mean ± std. dev. of 7 runs, 1,000 loops each)\n",
      "backend='c_parratt'\n",
      "188 µs ± 310 ns per loop (mean ± std. dev. of 7 runs, 10,000 loops each)\n",
      "backend='py_parratt'\n",
      "331 µs ± 1.23 µs per loop (mean ± std. dev. of 7 runs, 1,000 loops each)\n"
     ]
    }
   ],
   "source": [
    "for backend in available_backends():\n",
    "    print(f\"{backend=}\")\n",
    "    with use_reflect_backend(backend) as f:\n",
    "        %timeit f(q, layers, threads=1)"
   ]
  },
  {
   "cell_type": "markdown",
   "id": "f6d5db6c-1968-413e-94b4-6597c5beb476",
   "metadata": {},
   "source": [
    "## Test resolution smearing speed\n",
    "### Constant dq/q"
   ]
  },
  {
   "cell_type": "code",
   "execution_count": 6,
   "id": "faa39f6e-c6ef-441f-b8a7-bbfbec9ce585",
   "metadata": {},
   "outputs": [],
   "source": [
    "q = np.geomspace(0.005, 0.5, 200)"
   ]
  },
  {
   "cell_type": "code",
   "execution_count": 7,
   "id": "59edacf3-c09f-450d-9864-8096014e541f",
   "metadata": {},
   "outputs": [
    {
     "name": "stdout",
     "output_type": "stream",
     "text": [
      "227 µs ± 283 ns per loop (mean ± std. dev. of 7 runs, 1,000 loops each)\n"
     ]
    }
   ],
   "source": [
    "%timeit reflectivity(q, layers)"
   ]
  },
  {
   "cell_type": "markdown",
   "id": "6f8fe052-772f-4d52-a4bc-2c29223c462f",
   "metadata": {},
   "source": [
    "### Pointwise dq/q"
   ]
  },
  {
   "cell_type": "code",
   "execution_count": 8,
   "id": "a1282205-874c-4b7a-b61c-5d7a5ce756ac",
   "metadata": {},
   "outputs": [
    {
     "name": "stdout",
     "output_type": "stream",
     "text": [
      "171 µs ± 158 ns per loop (mean ± std. dev. of 7 runs, 10,000 loops each)\n"
     ]
    }
   ],
   "source": [
    "dq = 0.05 * q\n",
    "%timeit reflectivity(q, layers, dq=dq)"
   ]
  },
  {
   "cell_type": "markdown",
   "id": "96a9240b-97cf-47c2-8231-d5939b266155",
   "metadata": {},
   "source": [
    "## Test sampling speed"
   ]
  },
  {
   "cell_type": "code",
   "execution_count": 9,
   "id": "05614277-4f2b-434a-9b69-7e24e3bbb3c7",
   "metadata": {},
   "outputs": [],
   "source": [
    "pth = os.path.dirname(os.path.abspath(refnx.reflect.__file__))\n",
    "e361 = RD(os.path.join(pth, \"test\", \"e361r.txt\"))\n",
    "\n",
    "sio2 = SLD(3.47, name=\"SiO2\")\n",
    "si = SLD(2.07, name=\"Si\")\n",
    "d2o = SLD(6.36, name=\"D2O\")\n",
    "polymer = SLD(1, name=\"polymer\")\n",
    "\n",
    "# e361 is an older dataset, but well characterised\n",
    "structure361 = si | sio2(10, 4) | polymer(200, 3) | d2o(0, 3)\n",
    "model361 = ReflectModel(structure361, bkg=2e-5)\n",
    "\n",
    "model361.scale.vary = True\n",
    "model361.bkg.vary = True\n",
    "model361.scale.range(0.1, 2)\n",
    "model361.bkg.range(0, 5e-5)\n",
    "model361.dq = 5.0\n",
    "\n",
    "# d2o\n",
    "structure361[-1].sld.real.vary = True\n",
    "structure361[-1].sld.real.range(6, 6.36)\n",
    "\n",
    "p = structure361[1].thick\n",
    "structure361[1].thick.vary = True\n",
    "structure361[1].thick.range(5, 20)\n",
    "structure361[2].thick.vary = True\n",
    "structure361[2].thick.range(100, 220)\n",
    "\n",
    "structure361[2].sld.real.vary = True\n",
    "structure361[2].sld.real.range(0.2, 1.5)\n",
    "\n",
    "# e361.x_err = None\n",
    "np.random.seed(1)\n",
    "\n",
    "objective = Objective(model361, e361)\n",
    "fitter = CurveFitter(objective, nwalkers=200)\n",
    "fitter.initialise(\"jitter\")\n",
    "model361.threads = 1"
   ]
  },
  {
   "cell_type": "code",
   "execution_count": 10,
   "id": "550365da-2ee3-43d4-a153-f4a795806b97",
   "metadata": {},
   "outputs": [
    {
     "name": "stdout",
     "output_type": "stream",
     "text": [
      "2.97 s ± 38.5 ms per loop (mean ± std. dev. of 7 runs, 1 loop each)\n"
     ]
    }
   ],
   "source": [
    "%timeit fitter.sample(100, pool=-1, verbose=False)"
   ]
  },
  {
   "cell_type": "code",
   "execution_count": 11,
   "id": "ef4976b5-67fd-48a8-961d-86f386cf5bf3",
   "metadata": {},
   "outputs": [
    {
     "name": "stdout",
     "output_type": "stream",
     "text": [
      "16.3 ms ± 11.3 µs per loop (mean ± std. dev. of 7 runs, 100 loops each)\n"
     ]
    }
   ],
   "source": [
    "%timeit process_chain(objective, fitter.chain);"
   ]
  },
  {
   "cell_type": "code",
   "execution_count": null,
   "id": "997611ae-8c7c-4f8e-a67d-715b7ea3ba80",
   "metadata": {},
   "outputs": [],
   "source": []
  }
 ],
 "metadata": {
  "kernelspec": {
   "display_name": "Python 3 (ipykernel)",
   "language": "python",
   "name": "python3"
  },
  "language_info": {
   "codemirror_mode": {
    "name": "ipython",
    "version": 3
   },
   "file_extension": ".py",
   "mimetype": "text/x-python",
   "name": "python",
   "nbconvert_exporter": "python",
   "pygments_lexer": "ipython3",
   "version": "3.12.0"
  }
 },
 "nbformat": 4,
 "nbformat_minor": 5
}
