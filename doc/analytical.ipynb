{
 "cells": [
  {
   "cell_type": "markdown",
   "id": "f765353e-b8f5-4ca9-8871-7dd7204105ba",
   "metadata": {},
   "source": [
    "# Analytical SLD profiles"
   ]
  },
  {
   "cell_type": "markdown",
   "id": "ccc7f21b-705a-4fbe-ac9f-e48790c7a47d",
   "metadata": {},
   "source": [
    "## Oscillatory profile\n",
    "\n",
    "Use `refnx.reflect.FunctionalForm` to describe an oscillating SLD profile that can be used to describe the surface of a liquid metal.\n",
    "See \"X-ray reflectivity study of temperature-dependent surface layering in liquid Hg\", DiMasi, Tostmann, Ocko, Pershan, Deutsch, Phys Rev B, 58. [10.1103/PhysRevB.58.R13419](https://journals.aps.org/prb/abstract/10.1103/PhysRevB.58.R13419) for further details"
   ]
  },
  {
   "cell_type": "code",
   "execution_count": 124,
   "id": "9e92ec6d-a347-4600-81a2-0528e19e9a24",
   "metadata": {},
   "outputs": [],
   "source": [
    "import numpy as np\n",
    "import matplotlib.pyplot as plt\n",
    "from refnx.analysis import Parameter\n",
    "from refnx.reflect import SLD, Slab, FunctionalForm, ReflectModel"
   ]
  },
  {
   "cell_type": "markdown",
   "id": "b088cb09-7e7b-4afa-860c-6f1c4064ac11",
   "metadata": {},
   "source": [
    "`FunctionalForm` requires a callable of signature `profile(z, extent, left_sld, right_sld, **kwds)`. `kwds` is used to supply parameters describing the shape of the profile. `left_sld`, `right_sld` provide the SLDs of the structure to the left and right of the Component. `extent` is the total width of the Component. `z` is an array provided to `profile`, a list of distances at which the function needs to return a (possibly complex) SLD. `profile` needs to return a tuple `(sld, vfsolv)`, where `sld` is an array of the same shape as `z`, and `vfsolv` is the volume fraction of solvent at each point in z. If `sld` already incorporates a solvent contribution, then return `(sld, None)`.\n",
    "\n",
    "For further details see [FunctionalForm](https://refnx.readthedocs.io/en/latest/refnx.reflect.html#refnx.reflect.FunctionalForm). "
   ]
  },
  {
   "cell_type": "code",
   "execution_count": 119,
   "id": "a8eea8c4-1f56-4d92-b69e-075f89346c56",
   "metadata": {},
   "outputs": [],
   "source": [
    "def rho(z, extent, left_sld, right_sld, d=2.72, sigma_t=1.0, sigma_bar=0.46, offset=5):\n",
    "    # d, sigma_t, sigma_bar are parameters that describe the shape of the profile\n",
    "    def term(n):\n",
    "        sigma_n = n * sigma_bar**2 + sigma_t**2\n",
    "        prefactor = d / sigma_n / np.sqrt(2 * np.pi)\n",
    "        return prefactor * np.exp(-0.5 * ((z - offset - n * d) / sigma_n) ** 2)\n",
    "\n",
    "    _rho = np.zeros_like(z)\n",
    "    for i in range(0, 20):\n",
    "        _rho += term(i)\n",
    "    return left_sld + _rho * (right_sld - left_sld), None"
   ]
  },
  {
   "cell_type": "code",
   "execution_count": 120,
   "id": "43d93801-086b-4d6a-b33d-573b3eca7328",
   "metadata": {},
   "outputs": [],
   "source": [
    "air = SLD(0)\n",
    "d2o = SLD(6.36)\n",
    "sigma_bar = Parameter(0.46, \"sigma_bar\")\n",
    "d = Parameter(2.72, \"d\")\n",
    "sigma_t = Parameter(1.0, \"sigma_t\")\n",
    "offset = Parameter(\n",
    "    5\n",
    ")  # don't allow me to vary. It's used because rho needs to be evaluated at negative distances of z.\n",
    "\n",
    "f = FunctionalForm(\n",
    "    20,\n",
    "    rho,\n",
    "    microslab_max_thickness=0.1,\n",
    "    sigma_bar=sigma_bar,\n",
    "    d=d,\n",
    "    sigma_t=sigma_t,\n",
    "    offset=offset,\n",
    ")"
   ]
  },
  {
   "cell_type": "code",
   "execution_count": 121,
   "id": "060cbd52-b37e-49b3-974f-16bc07ebcef0",
   "metadata": {},
   "outputs": [],
   "source": [
    "s = air | f | d2o(0, 0)"
   ]
  },
  {
   "cell_type": "code",
   "execution_count": 122,
   "id": "fc33fb43-9f1f-46d1-8e01-2f476b144250",
   "metadata": {},
   "outputs": [
    {
     "data": {
      "image/png": "[encoded data removed]",
      "text/plain": [
       "<Figure size 640x480 with 1 Axes>"
      ]
     },
     "metadata": {},
     "output_type": "display_data"
    }
   ],
   "source": [
    "s.plot();"
   ]
  }
 ],
 "metadata": {
  "kernelspec": {
   "display_name": "Python 3 (ipykernel)",
   "language": "python",
   "name": "python3"
  },
  "language_info": {
   "codemirror_mode": {
    "name": "ipython",
    "version": 3
   },
   "file_extension": ".py",
   "mimetype": "text/x-python",
   "name": "python",
   "nbconvert_exporter": "python",
   "pygments_lexer": "ipython3",
   "version": "3.12.3"
  }
 },
 "nbformat": 4,
 "nbformat_minor": 5
}
